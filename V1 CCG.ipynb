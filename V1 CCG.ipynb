{
 "cells": [
  {
   "cell_type": "code",
   "execution_count": 1,
   "id": "4206ef26",
   "metadata": {
    "tags": [
     "parameters"
    ]
   },
   "outputs": [],
   "source": [
    "flex_source_link = \"https://github.com/et22\""
   ]
  },
  {
   "cell_type": "code",
   "execution_count": null,
   "id": "b0c8d3bf",
   "metadata": {},
   "outputs": [],
   "source": [
    "import seaborn as sns\n",
    "import pandas as pd\n",
    "import numpy as np\n",
    "import ipywidgets as widgets\n",
    "from scipy.io import loadmat\n",
    "from IPython.display import display, Markdown, clear_output\n",
    "from ipywidgets import interact\n",
    "import warnings\n",
    "warnings.filterwarnings(\"ignore\")\n",
    "import numpy as np\n",
    "import ipywidgets as widgets\n",
    "from IPython.display import clear_output, display\n",
    "from sklearn.cluster import AgglomerativeClustering, KMeans, MiniBatchKMeans\n",
    "from sklearn.metrics import silhouette_score, silhouette_samples\n",
    "from scipy.spatial.distance import euclidean\n",
    "\n",
    "import matplotlib.pyplot as plt\n",
    "from IPython.display import set_matplotlib_formats\n",
    "%matplotlib inline\n",
    "set_matplotlib_formats('svg')\n",
    "\n",
    "np.random.seed(42)\n"
   ]
  },
  {
   "cell_type": "code",
   "execution_count": null,
   "id": "c37b0797",
   "metadata": {},
   "outputs": [],
   "source": [
    "def make_cont_mtx(cat_row, cat_col, cont, num_rows):\n",
    "    cat_rows = np.arange(num_rows)+1\n",
    "    cat_cols = np.arange(num_rows)+1\n",
    "    cont_mtx = np.zeros((cat_rows.size, cat_cols.size))\n",
    "    for idxr, row in np.ndenumerate(cat_rows):\n",
    "        for idxc, col in np.ndenumerate(cat_cols):\n",
    "            cont_mtx[idxr, idxc] = np.nanmean(cont[np.logical_and(cat_row == row,cat_col == col)]);\n",
    "    return cont_mtx;\n",
    "\n",
    "def make_prop_mtx(cat_row, cat_col, numer_var, num_rows):\n",
    "    cat_rows = np.arange(num_rows)+1\n",
    "    cat_cols = np.arange(num_rows)+1\n",
    "    prop_numer = np.zeros((cat_rows.size, cat_cols.size))\n",
    "    prop_denom = np.zeros((cat_rows.size, cat_cols.size))\n",
    "    for idxr, row in np.ndenumerate(cat_rows):\n",
    "        for idxc, col in np.ndenumerate(cat_cols):\n",
    "            subset = np.logical_and(cat_row == row,cat_col == col)\n",
    "            rev_subset = np.logical_and(cat_row == col, cat_col == row)\n",
    "            either_subset = np.logical_or(subset, rev_subset)\n",
    "            prop_numer[idxr, idxc] = np.nansum(numer_var[subset])\n",
    "            prop_denom[idxr, idxc] = np.size(numer_var[subset])\n",
    "            \n",
    "    prop_mtx = np.divide(prop_numer, prop_denom)\n",
    "    return prop_mtx, prop_numer, prop_denom\n",
    "\n",
    "def get_checkbox_inclusions(boxes, pre_tlabels, post_tlabels):\n",
    "    subset = np.ones_like(pre_tlabels, dtype='bool')\n",
    "    for idx, box in enumerate(boxes):\n",
    "        if not box.value:\n",
    "            ex_val = idx + 1\n",
    "            subset = np.logical_and.reduce((subset, pre_tlabels!=ex_val, post_tlabels!=ex_val))\n",
    "    return subset\n",
    "            \n",
    "def get_subset(change):\n",
    "    metric = ccg_selection.value\n",
    "    \n",
    "    maxima = maxima_selection.value\n",
    "    lag_max = lag_selection.value[1]\n",
    "    lag_min = lag_selection.value[0]\n",
    "    \n",
    "    std_max = std_selection.value[1]\n",
    "    std_min = std_selection.value[0]\n",
    "    \n",
    "    area_max = area_selection.value[1]\n",
    "    area_min = area_selection.value[0]\n",
    "    \n",
    "    \n",
    "    \n",
    "    ccg_curr = ccg_data[metric][0][0].copy()\n",
    "    ccg_fields = ccg_data['ccg'][0][0].dtype.names\n",
    "    \n",
    "    lag_subset = np.logical_and(ccg_curr[maxima+'_lag']>=lag_min, ccg_curr[maxima+'_lag']<=lag_max)\n",
    "    maxima_subset = np.logical_and(ccg_curr[maxima+'s']>=(std_min*ccg_curr['noise_std']+ccg_curr['noise_mean']), ccg_curr[maxima+'s']<=(std_max*ccg_curr['noise_std']+ccg_curr['noise_mean'])) \n",
    "    area_subset = np.logical_and(ccg_curr['area']>=area_min, ccg_curr['area']<=area_max)    \n",
    "    \n",
    "    cl_subset = get_checkbox_inclusions(cl_checkboxes[1:],ccg_curr['pre_cl'],ccg_curr['post_cl'])\n",
    "    ct_subset = get_checkbox_inclusions(ct_checkboxes[1:],ccg_curr['pre_ct'],ccg_curr['post_ct'])\n",
    "    sc_subset = get_checkbox_inclusions(sc_checkboxes[1:],ccg_curr['pre_sc'],ccg_curr['post_sc'])\n",
    "\n",
    "    subset = np.logical_and.reduce((lag_subset, maxima_subset, area_subset, cl_subset, ct_subset, sc_subset))\n",
    "    \n",
    "    for field in ccg_fields:\n",
    "        if field != 'config' and field != 'cluster' and field != 'ccg_control':\n",
    "            ccg_curr[field] = ccg_curr[field][np.squeeze(subset)]\n",
    "            \n",
    "    return ccg_curr, maxima, metric, subset "
   ]
  },
  {
   "cell_type": "code",
   "execution_count": null,
   "id": "9a8b2014",
   "metadata": {},
   "outputs": [],
   "source": [
    "def cluster(ccgs, weights, range_n_clusters):\n",
    "    score = []\n",
    "    inertia = []\n",
    "    for k in range_n_clusters:\n",
    "        cluster_obj = MiniBatchKMeans(n_clusters=k, compute_labels=True)\n",
    "        cluster_labels = cluster_obj.fit_predict(ccgs, sample_weight=weights)\n",
    "        if k>1:\n",
    "            silhouette_samps = silhouette_samples(ccgs, cluster_labels)\n",
    "            sihouette_score=np.average(silhouette_samps, weights=weights)\n",
    "        else:\n",
    "            sihouette_score=0\n",
    "        score.append(sihouette_score)\n",
    "        inertia.append(cluster_obj.inertia_)\n",
    "    return score, inertia\n",
    "\n"
   ]
  },
  {
   "cell_type": "code",
   "execution_count": null,
   "id": "78a054d7",
   "metadata": {},
   "outputs": [],
   "source": [
    "\n"
   ]
  },
  {
   "cell_type": "code",
   "execution_count": null,
   "id": "1e670466",
   "metadata": {},
   "outputs": [],
   "source": [
    "ccg_data = loadmat('int_output/combined_ccg_data.mat', chars_as_strings=True)"
   ]
  },
  {
   "cell_type": "code",
   "execution_count": null,
   "id": "c5836f6b",
   "metadata": {},
   "outputs": [],
   "source": [
    "ccg_data = ccg_data['ccg_data'][0][0]"
   ]
  },
  {
   "cell_type": "code",
   "execution_count": null,
   "id": "854d94c8",
   "metadata": {},
   "outputs": [],
   "source": [
    "#ccgs = ccg_data['ccg'][0][0]['ccg_control'][:,90:101]\n",
    "#peaks = ccg_data['ccg'][0][0]['peaks']\n",
    "#troughs = ccg_data['ccg'][0][0]['troughs']\n",
    "#noise_mean = ccg_data['ccg'][0][0]['noise_mean']\n",
    "#noise_std = ccg_data['ccg'][0][0]['noise_std']\n",
    "\n",
    "#ccgs = (ccgs-np.min(ccgs))/np.ptp(ccgs)\n",
    "#weights = np.squeeze(np.maximum(np.zeros_like(peaks),(peaks-noise_mean)/noise_std) + np.maximum(np.zeros_like(peaks),(noise_mean-troughs)/noise_std))\n",
    "#weights[np.isnan(weights)] = 0\n",
    "\n",
    "#range_n_clusters = [1,2,3,4,5,6,7,8,9,10]\n",
    "#score, inertia = cluster(ccgs, weights, range_n_clusters)\n",
    "#plt.plot(range_n_clusters, score)\n",
    "#plt.show()\n",
    "#plt.plot(range_n_clusters, inertia)"
   ]
  },
  {
   "cell_type": "code",
   "execution_count": null,
   "id": "42e98cc1",
   "metadata": {},
   "outputs": [],
   "source": [
    "# define cat variable labels\n",
    "labels = {'cl': [\"2/3\", \"4a/b\", \"4cα\", \"4cβ\", \"5\", \"6\", \"WM\"], \n",
    "         'sc': [\"Complex\", \"Simple\"],\n",
    "         'ct': [\"AS\", \"FS\", \"RM\", \"RL\"]}"
   ]
  },
  {
   "cell_type": "markdown",
   "id": "b2b95599",
   "metadata": {
    "tags": [
     "sidebar"
    ]
   },
   "source": [
    "# Sidebar"
   ]
  },
  {
   "cell_type": "markdown",
   "id": "aab43e0e",
   "metadata": {},
   "source": [
    "### Input"
   ]
  },
  {
   "cell_type": "code",
   "execution_count": null,
   "id": "5c228b11",
   "metadata": {
    "tags": [
     "body"
    ]
   },
   "outputs": [],
   "source": [
    "# code\n",
    "ccg_label = widgets.Label(value=\"Metric:\")\n",
    "ccg_selection = widgets.RadioButtons(\n",
    "    options=[('p(post|coinc.)', 'ccgn'),('p(post|pre)', 'ccg'), ('p(post|not pre)','nccg'), ('p(post|pre)-p(post|not pre)','diffccg'), ('MI(pre, post)','miccg')],\n",
    "    value='ccg',\n",
    "    disabled=False\n",
    ")\n",
    "maxima_label = widgets.Label(value=\"Excite/Inhibit:\")\n",
    "maxima_selection = widgets.RadioButtons(\n",
    "    options=[('peaks', 'peak'), ('troughs', 'trough')],\n",
    "    value='peak',\n",
    "    disabled=False\n",
    ")\n",
    "std_label = widgets.Label(value=\"Noise Std:\")\n",
    "std_selection = widgets.FloatRangeSlider(\n",
    "    value=[3, 10],\n",
    "    min=-10.0,\n",
    "    max=10.0,\n",
    "    step=0.1,\n",
    "    disabled=False,\n",
    "    continuous_update=False,\n",
    "    orientation='horizontal',\n",
    "    readout=True,\n",
    "    readout_format='.1f',\n",
    ")\n",
    "lag_label = widgets.Label(value=\"Tau:\")\n",
    "lag_selection = widgets.IntRangeSlider(\n",
    "    value=[0, 10],\n",
    "    min=0,\n",
    "    max=10,\n",
    "    step=1,\n",
    "    disabled=False,\n",
    "    continuous_update=False,\n",
    "    orientation='horizontal',\n",
    "    readout=True,\n",
    "    readout_format='d',\n",
    ")\n",
    "area_label = widgets.Label(value=\"Area:\")\n",
    "area_selection = widgets.FloatRangeSlider(\n",
    "    value=[.05, .5],\n",
    "    min=-.5,\n",
    "    max=.5,\n",
    "    step=.01,\n",
    "    disabled=False,\n",
    "    continuous_update=False,\n",
    "    orientation='horizontal',\n",
    "    readout=True,\n",
    "    readout_format='.2f',\n",
    ")\n",
    "\n",
    "cl_label = widgets.Label(value=\"Layer:\")\n",
    "cl_checkboxes = [widgets.Checkbox(value=True, indent=False, description=label) for label in labels['cl']]\n",
    "cl_checkboxes[6].value = False; # don't include WM in default layers\n",
    "cl_checkboxes.insert(0,cl_label);\n",
    "cl_selection = widgets.VBox(children=cl_checkboxes)\n",
    "\n",
    "ct_label = widgets.Label(value=\"Putat. type:\")\n",
    "ct_checkboxes = [widgets.Checkbox(value=True, indent=False, description=label) for label in labels['ct']]\n",
    "ct_checkboxes.insert(0,ct_label);\n",
    "ct_selection = widgets.VBox(children=ct_checkboxes)\n",
    "\n",
    "sc_label = widgets.Label(value=\"Func. type:\")\n",
    "sc_checkboxes = [widgets.Checkbox(value=True, indent=False, description=label) for label in labels['sc']]\n",
    "sc_checkboxes.insert(0,sc_label);\n",
    "sc_selection = widgets.VBox(children=sc_checkboxes)\n",
    "ex_selection = widgets.HBox([cl_selection, ct_selection, sc_selection])\n",
    "\n",
    "plot_label = widgets.Label(value=\"Plot by:\")\n",
    "plot_selection = widgets.RadioButtons(\n",
    "    options=[('Layer', 'cl'), ('Putative cell type', 'ct'), ('Functional cell type', 'sc')],\n",
    "    value='cl',\n",
    "    disabled=False\n",
    ")\n",
    "\n",
    "widgets.VBox([ccg_label, ccg_selection, maxima_label, maxima_selection, std_label, std_selection,lag_label,\n",
    "              lag_selection, area_label, area_selection, ex_selection, plot_label, plot_selection])\n"
   ]
  },
  {
   "cell_type": "code",
   "execution_count": null,
   "id": "10c7a315",
   "metadata": {},
   "outputs": [],
   "source": [
    "# code\n",
    "pre_pair_label = widgets.Label(value=\"Pre:\")\n",
    "pre_opt = [(label, idx+1) for idx, label in enumerate(labels[plot_selection.value])]\n",
    "pre_pair_selection = widgets.RadioButtons(\n",
    "    options=pre_opt,\n",
    "    value=pre_opt[0][1],\n",
    "    disabled=False\n",
    ")\n",
    "post_pair_label = widgets.Label(value=\"Post:\")\n",
    "post_opt =  [(label, idx+1) for idx, label in enumerate(labels[plot_selection.value])]\n",
    "post_pair_selection = widgets.RadioButtons(\n",
    "    options=post_opt,\n",
    "    value=post_opt[0][1],\n",
    "    #layout={'width': 'max-content'},\n",
    "    disabled=False\n",
    ")"
   ]
  },
  {
   "cell_type": "markdown",
   "id": "37634b12",
   "metadata": {
    "tags": [
     "footer"
    ]
   },
   "source": [
    "![Moore Lab](https://static.wixstatic.com/media/2997bf_9718a381f05f4cc9a721428ad26c6639~mv2.jpeg/v1/crop/x_35,y_47,w_1223,h_614/fill/w_388,h_195,al_c,q_80,usm_0.66_1.00_0.01/Image%207-17-20%20at%203_45%20PM.webp)"
   ]
  },
  {
   "cell_type": "markdown",
   "id": "df0692f3",
   "metadata": {},
   "source": [
    "# |Tau| Heatmap"
   ]
  },
  {
   "cell_type": "markdown",
   "id": "e7417062",
   "metadata": {
    "tags": [
     "size=600"
    ]
   },
   "source": [
    "## Column 1"
   ]
  },
  {
   "cell_type": "markdown",
   "id": "f85aaf15",
   "metadata": {},
   "source": [
    "### Output"
   ]
  },
  {
   "cell_type": "code",
   "execution_count": null,
   "id": "976f33d1",
   "metadata": {},
   "outputs": [],
   "source": [
    "out = widgets.Output()\n",
    "outs = widgets.Output()\n",
    "outsi = widgets.Output()\n",
    "\n",
    "out2 = widgets.Output()\n",
    "out2s = widgets.Output()\n",
    "out2si = widgets.Output()\n",
    "\n",
    "out3 = widgets.Output()\n",
    "out3s = widgets.Output()\n",
    "out3si = widgets.Output()\n",
    "\n",
    "out4 = widgets.Output()\n",
    "out4s = widgets.Output()\n",
    "out4si = widgets.Output()\n",
    "\n",
    "\n",
    "def on_value_change(change):\n",
    "    ccg_curr, maxima, metric, subset  = get_subset(change)\n",
    "    plot_type = plot_selection.value;\n",
    "    row_labels = labels[plot_type]\n",
    "    num_rows = len(row_labels);\n",
    "    pre_lab = \"pre_\" + plot_type\n",
    "    post_lab = \"post_\" + plot_type\n",
    "    \n",
    "    with out:\n",
    "        cont_mtx = make_cont_mtx(ccg_curr[pre_lab], ccg_curr[post_lab], ccg_curr[maxima+'_lag'], num_rows)\n",
    "        df = pd.DataFrame(cont_mtx, columns=row_labels, index=row_labels)\n",
    "        \n",
    "        out.clear_output(wait=True)\n",
    "        sns.heatmap(df, annot=True)\n",
    "        plt.xlabel('post-syn. neuron')\n",
    "        plt.ylabel('pre-syn. neuron')\n",
    "        plt.title(\"mean lead (ms), n = \" + str(ccg_curr[pre_lab].size))\n",
    "        plt.show()\n",
    "    \n",
    "    with out2:\n",
    "        cont_mtx = make_cont_mtx(ccg_curr[pre_lab], ccg_curr[post_lab], ccg_curr[maxima+'s'], num_rows)\n",
    "        df = pd.DataFrame(cont_mtx, columns=row_labels, index=row_labels)\n",
    "        \n",
    "        out2.clear_output(wait=True)\n",
    "        sns.heatmap(df, cmap='YlOrBr', annot=True)\n",
    "        plt.xlabel('post-syn. neuron')\n",
    "        plt.ylabel('pre-syn. neuron')\n",
    "        plt.title(\"mean maxima (ms), n = \" + str(ccg_curr[pre_lab].size))\n",
    "        plt.show()\n",
    "        \n",
    "    with out3:\n",
    "        mtx, numer, denom = make_prop_mtx(ccg_curr[pre_lab], ccg_curr[post_lab], ccg_curr['peak_lag']>-1, num_rows)\n",
    "        prop_mtx = np.divide(numer, numer + np.transpose(numer));\n",
    "        df = pd.DataFrame(prop_mtx, columns=row_labels, index=row_labels)\n",
    "        \n",
    "        out3.clear_output(wait=True)\n",
    "        sns.heatmap(df, cmap='vlag', center=.5, annot=True) #, annot=True\n",
    "        plt.xlabel('neuron k')\n",
    "        plt.ylabel('neuron j')\n",
    "        plt.title(\"prop. j leads k, n = \" + str(ccg_curr[pre_lab].size))\n",
    "        plt.show()\n",
    "    \n",
    "    with out4:\n",
    "        ccg_pre_subset = ccg_data[metric][0][0].copy()\n",
    "        mtx, numer, denom = make_prop_mtx(ccg_pre_subset[pre_lab], ccg_pre_subset[post_lab], subset, num_rows)\n",
    "        df = pd.DataFrame(mtx, columns=row_labels, index=row_labels)\n",
    "        \n",
    "        out4.clear_output(wait=True)\n",
    "        sns.heatmap(df, cmap='YlOrBr', annot=True) #, annot=True\n",
    "        plt.xlabel('neuron k')\n",
    "        plt.ylabel('neuron j')\n",
    "        plt.title(\"prop. sig, n = \" + str(ccg_curr[pre_lab].size) + \"/\" + str(ccg_pre_subset[pre_lab].size))\n",
    "        plt.show()\n",
    "    \n",
    "    on_pairwise_change(change)\n",
    "\n",
    "def on_plot_type_change(change):        \n",
    "    plot_type = plot_selection.value;    \n",
    "    pre_opt = [(label, idx+1) for idx, label in enumerate(labels[plot_type])]\n",
    "    pre_pair_selection.value = pre_opt[0][1]\n",
    "    pre_pair_selection.options = pre_opt\n",
    "    \n",
    "    post_opt = [(label, idx+1) for idx, label in enumerate(labels[plot_type])]\n",
    "    post_pair_selection.value = post_opt[0][1]\n",
    "    post_pair_selection.options = post_opt\n",
    "    \n",
    "    with outsi:\n",
    "        outsi.clear_output(wait=True)\n",
    "        display(widgets.HBox([widgets.VBox([pre_pair_label, pre_pair_selection]), widgets.VBox([post_pair_label, post_pair_selection])]))\n",
    "    \n",
    "    with out2si:\n",
    "        out2si.clear_output(wait=True)\n",
    "        display(widgets.HBox([widgets.VBox([pre_pair_label, pre_pair_selection]), widgets.VBox([post_pair_label, post_pair_selection])]))\n",
    "    \n",
    "    with out3si:\n",
    "        out3si.clear_output(wait=True)\n",
    "        display(widgets.HBox([widgets.VBox([pre_pair_label, pre_pair_selection]), widgets.VBox([post_pair_label, post_pair_selection])]))\n",
    "\n",
    "    with out4si:\n",
    "        out4si.clear_output(wait=True)\n",
    "        display(widgets.HBox([widgets.VBox([pre_pair_label, pre_pair_selection]), widgets.VBox([post_pair_label, post_pair_selection])]))\n",
    "        \n",
    "    on_pairwise_change(change)\n",
    "\n",
    "def on_pairwise_change(change):\n",
    "    ccg_curr, maxima, metric, subset  = get_subset(change)\n",
    "    plot_type = plot_selection.value;\n",
    "    row_labels = labels[plot_type]\n",
    "    num_rows = len(row_labels);\n",
    "    pre_lab = \"pre_\" + plot_type\n",
    "    post_lab = \"post_\" + plot_type\n",
    "    \n",
    "    with outs:\n",
    "        x1 = np.squeeze(np.logical_and(ccg_curr[pre_lab] == pre_pair_selection.value, ccg_curr[post_lab] ==post_pair_selection.value)); \n",
    "        x2 = np.squeeze(np.logical_and(ccg_curr[post_lab] == pre_pair_selection.value, ccg_curr[pre_lab] ==post_pair_selection.value));\n",
    "        conx_labels = {1: \"pre->post\", 2: \"post->pre\", 0: \"other\"}        \n",
    "        lag = np.squeeze(ccg_curr[maxima+'_lag'])\n",
    "        connection = pd.Categorical(np.append(x1, 2*x2)).rename_categories(conx_labels)\n",
    "        lag = np.append(lag, lag)\n",
    "        df = pd.DataFrame({'lead':lag, 'connection':connection})\n",
    "        \n",
    "        outs.clear_output(wait=True)\n",
    "        sns.histplot(data=df, x='lead', hue=\"connection\", stat=\"density\", common_norm=False, fill=False)\n",
    "        plt.show()\n",
    "    \n",
    "    with out2s:\n",
    "        x1 = np.squeeze(np.logical_and(ccg_curr[pre_lab] == pre_pair_selection.value, ccg_curr[post_lab] ==post_pair_selection.value)); \n",
    "        x2 = np.squeeze(np.logical_and(ccg_curr[post_lab] == pre_pair_selection.value, ccg_curr[pre_lab] ==post_pair_selection.value));\n",
    "        conx_labels = {1: \"pre->post\", 2: \"post->pre\", 0: \"other\"}        \n",
    "        lag = np.squeeze(ccg_curr[maxima+'s'])\n",
    "        lag = np.append(lag, lag)\n",
    "            \n",
    "        connection = pd.Categorical(np.append(x1, 2*x2)).rename_categories(conx_labels)\n",
    "        df = pd.DataFrame({maxima:lag, 'connection':connection})\n",
    "        \n",
    "        out2s.clear_output(wait=True)\n",
    "        sns.histplot(data=df, x=maxima, hue=\"connection\", stat=\"density\", common_norm=False, fill=False)\n",
    "        plt.show()\n",
    "        \n",
    "    with out3s:\n",
    "        out3s.clear_output(wait=True)\n",
    "    \n",
    "    with out4s:\n",
    "        out4s.clear_output(wait=True)\n",
    "        \n",
    "for cbox in ct_checkboxes:\n",
    "    cbox.observe(on_value_change, names=\"value\")\n",
    "for cbox in cl_checkboxes:\n",
    "    cbox.observe(on_value_change, names=\"value\")\n",
    "for cbox in sc_checkboxes:\n",
    "    cbox.observe(on_value_change, names=\"value\")\n",
    "\n",
    "\n",
    "plot_selection.observe(on_value_change, names=\"value\")\n",
    "ccg_selection.observe(on_value_change, names=\"value\")\n",
    "maxima_selection.observe(on_value_change, names=\"value\")\n",
    "area_selection.observe(on_value_change, names=\"value\")\n",
    "lag_selection.observe(on_value_change, names=\"value\")\n",
    "std_selection.observe(on_value_change, names=\"value\")\n",
    "\n",
    "plot_selection.observe(on_plot_type_change, names=\"value\")\n",
    "\n",
    "pre_pair_selection.observe(on_pairwise_change, names=\"value\")\n",
    "post_pair_selection.observe(on_pairwise_change, names=\"value\")"
   ]
  },
  {
   "cell_type": "code",
   "execution_count": null,
   "id": "c8419db8",
   "metadata": {
    "tags": [
     "body"
    ]
   },
   "outputs": [],
   "source": [
    "on_value_change(None)\n",
    "out"
   ]
  },
  {
   "cell_type": "markdown",
   "id": "829f1498",
   "metadata": {
    "tags": [
     "size=400"
    ]
   },
   "source": [
    "## Column 2"
   ]
  },
  {
   "cell_type": "markdown",
   "id": "ce0d6a1c",
   "metadata": {},
   "source": [
    "### Pairwise Test Input\n"
   ]
  },
  {
   "cell_type": "code",
   "execution_count": null,
   "id": "3fdc1fb7",
   "metadata": {
    "tags": [
     "body"
    ]
   },
   "outputs": [],
   "source": [
    "on_plot_type_change(None)\n",
    "outsi"
   ]
  },
  {
   "cell_type": "markdown",
   "id": "064ddd85",
   "metadata": {},
   "source": [
    "### Pairwise Test Output"
   ]
  },
  {
   "cell_type": "code",
   "execution_count": null,
   "id": "c37d7b50",
   "metadata": {
    "tags": [
     "body"
    ]
   },
   "outputs": [],
   "source": [
    "outs\n"
   ]
  },
  {
   "cell_type": "markdown",
   "id": "24ceb8ab",
   "metadata": {},
   "source": [
    "# Maxima Heatmap"
   ]
  },
  {
   "cell_type": "markdown",
   "id": "211199e5",
   "metadata": {
    "tags": [
     "size=600"
    ]
   },
   "source": [
    "## Column 1"
   ]
  },
  {
   "cell_type": "markdown",
   "id": "efb00656",
   "metadata": {},
   "source": [
    "### Output"
   ]
  },
  {
   "cell_type": "code",
   "execution_count": null,
   "id": "ef5b8905",
   "metadata": {
    "tags": [
     "body"
    ]
   },
   "outputs": [],
   "source": [
    "out2"
   ]
  },
  {
   "cell_type": "markdown",
   "id": "6d8c4916",
   "metadata": {
    "tags": [
     "size=400"
    ]
   },
   "source": [
    "## Column 2"
   ]
  },
  {
   "cell_type": "markdown",
   "id": "ca6bab91",
   "metadata": {},
   "source": [
    "### Pairwise Test Input"
   ]
  },
  {
   "cell_type": "code",
   "execution_count": null,
   "id": "23a8d6c9",
   "metadata": {
    "tags": [
     "body"
    ]
   },
   "outputs": [],
   "source": [
    "out2si"
   ]
  },
  {
   "cell_type": "markdown",
   "id": "7ed420e1",
   "metadata": {},
   "source": [
    "### Pairwise Test Output"
   ]
  },
  {
   "cell_type": "code",
   "execution_count": null,
   "id": "cd4803f6",
   "metadata": {
    "tags": [
     "body"
    ]
   },
   "outputs": [],
   "source": [
    "out2s"
   ]
  },
  {
   "cell_type": "markdown",
   "id": "0a4d9f45",
   "metadata": {},
   "source": [
    "# Prop. j leads k Heatmap"
   ]
  },
  {
   "cell_type": "markdown",
   "id": "46b01508",
   "metadata": {
    "tags": [
     "size=600"
    ]
   },
   "source": [
    "## Column 1"
   ]
  },
  {
   "cell_type": "markdown",
   "id": "a8f3ddfd",
   "metadata": {},
   "source": [
    "### Output"
   ]
  },
  {
   "cell_type": "code",
   "execution_count": null,
   "id": "f2075079",
   "metadata": {
    "tags": [
     "body"
    ]
   },
   "outputs": [],
   "source": [
    "out3"
   ]
  },
  {
   "cell_type": "markdown",
   "id": "d791fd3e",
   "metadata": {
    "tags": [
     "size=400"
    ]
   },
   "source": [
    "## Column 2"
   ]
  },
  {
   "cell_type": "markdown",
   "id": "b0d64eed",
   "metadata": {},
   "source": [
    "### Pairwise Test Input"
   ]
  },
  {
   "cell_type": "code",
   "execution_count": null,
   "id": "37cf53cb",
   "metadata": {
    "tags": [
     "body"
    ]
   },
   "outputs": [],
   "source": [
    "out3si"
   ]
  },
  {
   "cell_type": "markdown",
   "id": "1bdcff41",
   "metadata": {},
   "source": [
    "### Pairwise Test Output"
   ]
  },
  {
   "cell_type": "code",
   "execution_count": null,
   "id": "041f2ec9",
   "metadata": {
    "tags": [
     "body"
    ]
   },
   "outputs": [],
   "source": [
    "out3s"
   ]
  },
  {
   "cell_type": "markdown",
   "id": "631381d1",
   "metadata": {},
   "source": [
    "# Prop. significant"
   ]
  },
  {
   "cell_type": "markdown",
   "id": "4f29542e",
   "metadata": {
    "tags": [
     "size=600"
    ]
   },
   "source": [
    "## Column 1"
   ]
  },
  {
   "cell_type": "markdown",
   "id": "0da1f157",
   "metadata": {},
   "source": [
    "### Output"
   ]
  },
  {
   "cell_type": "code",
   "execution_count": null,
   "id": "cc6077c6",
   "metadata": {
    "tags": [
     "body"
    ]
   },
   "outputs": [],
   "source": [
    "out4"
   ]
  },
  {
   "cell_type": "markdown",
   "id": "a0e572c6",
   "metadata": {
    "tags": [
     "size=400"
    ]
   },
   "source": [
    "## Column 2"
   ]
  },
  {
   "cell_type": "markdown",
   "id": "87d669ee",
   "metadata": {},
   "source": [
    "### Pairwise Test Input"
   ]
  },
  {
   "cell_type": "code",
   "execution_count": null,
   "id": "45e3de67",
   "metadata": {
    "tags": [
     "body"
    ]
   },
   "outputs": [],
   "source": [
    "out4si"
   ]
  },
  {
   "cell_type": "markdown",
   "id": "e4281cd0",
   "metadata": {},
   "source": [
    "### Pairwise Test Output"
   ]
  },
  {
   "cell_type": "code",
   "execution_count": null,
   "id": "e5b9c8cc",
   "metadata": {
    "tags": [
     "body"
    ]
   },
   "outputs": [],
   "source": [
    "out4s"
   ]
  },
  {
   "cell_type": "markdown",
   "id": "74a3f6cc",
   "metadata": {},
   "source": [
    "# Custom Layer Selection"
   ]
  },
  {
   "cell_type": "markdown",
   "id": "f25491d1",
   "metadata": {
    "tags": [
     "sidebar"
    ]
   },
   "source": [
    "## Custom Sidebar"
   ]
  },
  {
   "cell_type": "markdown",
   "id": "9c62757c",
   "metadata": {},
   "source": [
    "### Custom Sidebar"
   ]
  },
  {
   "cell_type": "code",
   "execution_count": null,
   "id": "af9072fd",
   "metadata": {
    "tags": [
     "body"
    ]
   },
   "outputs": [],
   "source": [
    "print(\"input\")"
   ]
  },
  {
   "cell_type": "markdown",
   "id": "5581173f",
   "metadata": {},
   "source": [
    "## Column"
   ]
  },
  {
   "cell_type": "markdown",
   "id": "e4738547",
   "metadata": {},
   "source": [
    "### Picker"
   ]
  },
  {
   "cell_type": "code",
   "execution_count": null,
   "id": "4f6cb311",
   "metadata": {
    "tags": [
     "body"
    ]
   },
   "outputs": [],
   "source": [
    "data = ccg_data['ccg'][0][0]['cluster'][0][0]\n",
    "df = pd.DataFrame({'session': np.squeeze(data['Cluster_session']),\n",
    "              'celllayer': np.squeeze(data['Cluster_celllayer']),\n",
    "              'celldepth': np.squeeze(data['Cluster_celldepth']),\n",
    "               'celltype': np.squeeze(data['Cluster_celltype']), \n",
    "              'MI_max': np.squeeze(data['Cluster_MI_max']), \n",
    "              'simpcomp': np.squeeze(data['Cluster_simpcomp'])})\n",
    "\n",
    "plt.subplot(1,3,1)\n",
    "\n",
    "\n",
    "plt.subplot(1,3,2)\n",
    "sns.kdeplot(data=df, y=\"celldepth\", hue=\"simpcomp\", fill=False)\n",
    "\n",
    "plt.subplot(1,3,3)\n",
    "sns.kdeplot(data=df, y=\"celldepth\", hue=\"celltype\", fill=False)\n",
    "plt.show()\n",
    "        "
   ]
  },
  {
   "cell_type": "code",
   "execution_count": null,
   "id": "dd9e9321",
   "metadata": {},
   "outputs": [],
   "source": []
  }
 ],
 "metadata": {
  "celltoolbar": "Tags",
  "kernelspec": {
   "display_name": "Python 3",
   "language": "python",
   "name": "python3"
  },
  "language_info": {
   "codemirror_mode": {
    "name": "ipython",
    "version": 3
   },
   "file_extension": ".py",
   "mimetype": "text/x-python",
   "name": "python",
   "nbconvert_exporter": "python",
   "pygments_lexer": "ipython3",
   "version": "3.8.8"
  }
 },
 "nbformat": 4,
 "nbformat_minor": 5
}
